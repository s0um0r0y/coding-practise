{
 "cells": [
  {
   "cell_type": "markdown",
   "id": "96da00c0",
   "metadata": {},
   "source": [
    "# fine tuning lecture"
   ]
  },
  {
   "cell_type": "code",
   "execution_count": null,
   "id": "c3de36c9",
   "metadata": {},
   "outputs": [],
   "source": []
  }
 ],
 "metadata": {
  "language_info": {
   "name": "python"
  }
 },
 "nbformat": 4,
 "nbformat_minor": 5
}
