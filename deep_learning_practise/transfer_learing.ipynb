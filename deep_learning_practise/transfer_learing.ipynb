{
 "cells": [
  {
   "cell_type": "markdown",
   "id": "96da00c0",
   "metadata": {},
   "source": [
    "# fine tuning lecture"
   ]
  },
  {
   "cell_type": "code",
   "execution_count": 1,
   "id": "c3de36c9",
   "metadata": {},
   "outputs": [
    {
     "name": "stdout",
     "output_type": "stream",
     "text": [
      "[INFO] torch/torchvision versions not as required, installing nightly versions.\n",
      "Looking in indexes: https://pypi.org/simple, https://download.pytorch.org/whl/cu113\n",
      "Requirement already satisfied: torch in /home/soumoroy/anaconda3/lib/python3.9/site-packages (2.7.1+cu128)\n",
      "Requirement already satisfied: torchvision in /home/soumoroy/anaconda3/lib/python3.9/site-packages (0.22.1+cu128)\n",
      "Requirement already satisfied: torchaudio in /home/soumoroy/anaconda3/lib/python3.9/site-packages (2.7.1+cu128)\n",
      "Requirement already satisfied: nvidia-nvjitlink-cu12==12.8.61 in /home/soumoroy/anaconda3/lib/python3.9/site-packages (from torch) (12.8.61)\n",
      "Requirement already satisfied: networkx in /home/soumoroy/anaconda3/lib/python3.9/site-packages (from torch) (2.6.3)\n",
      "Requirement already satisfied: jinja2 in /home/soumoroy/anaconda3/lib/python3.9/site-packages (from torch) (2.11.3)\n",
      "Requirement already satisfied: nvidia-cufft-cu12==11.3.3.41 in /home/soumoroy/anaconda3/lib/python3.9/site-packages (from torch) (11.3.3.41)\n",
      "Requirement already satisfied: nvidia-nvtx-cu12==12.8.55 in /home/soumoroy/anaconda3/lib/python3.9/site-packages (from torch) (12.8.55)\n",
      "Requirement already satisfied: nvidia-cublas-cu12==12.8.3.14 in /home/soumoroy/anaconda3/lib/python3.9/site-packages (from torch) (12.8.3.14)\n",
      "Requirement already satisfied: filelock in /home/soumoroy/anaconda3/lib/python3.9/site-packages (from torch) (3.3.1)\n",
      "Requirement already satisfied: nvidia-cudnn-cu12==9.7.1.26 in /home/soumoroy/anaconda3/lib/python3.9/site-packages (from torch) (9.7.1.26)\n",
      "Requirement already satisfied: nvidia-cusparse-cu12==12.5.7.53 in /home/soumoroy/anaconda3/lib/python3.9/site-packages (from torch) (12.5.7.53)\n",
      "Requirement already satisfied: nvidia-cuda-cupti-cu12==12.8.57 in /home/soumoroy/anaconda3/lib/python3.9/site-packages (from torch) (12.8.57)\n",
      "Requirement already satisfied: nvidia-cusparselt-cu12==0.6.3 in /home/soumoroy/anaconda3/lib/python3.9/site-packages (from torch) (0.6.3)\n",
      "Requirement already satisfied: nvidia-cufile-cu12==1.13.0.11 in /home/soumoroy/anaconda3/lib/python3.9/site-packages (from torch) (1.13.0.11)\n",
      "Requirement already satisfied: triton==3.3.1 in /home/soumoroy/anaconda3/lib/python3.9/site-packages (from torch) (3.3.1)\n",
      "Requirement already satisfied: nvidia-cusolver-cu12==11.7.2.55 in /home/soumoroy/anaconda3/lib/python3.9/site-packages (from torch) (11.7.2.55)\n",
      "Requirement already satisfied: fsspec in /home/soumoroy/anaconda3/lib/python3.9/site-packages (from torch) (2021.8.1)\n",
      "Requirement already satisfied: typing-extensions>=4.10.0 in /home/soumoroy/anaconda3/lib/python3.9/site-packages (from torch) (4.12.2)\n",
      "Requirement already satisfied: nvidia-cuda-nvrtc-cu12==12.8.61 in /home/soumoroy/anaconda3/lib/python3.9/site-packages (from torch) (12.8.61)\n",
      "Requirement already satisfied: sympy>=1.13.3 in /home/soumoroy/anaconda3/lib/python3.9/site-packages (from torch) (1.13.3)\n",
      "Requirement already satisfied: nvidia-nccl-cu12==2.26.2 in /home/soumoroy/anaconda3/lib/python3.9/site-packages (from torch) (2.26.2)\n",
      "Requirement already satisfied: nvidia-curand-cu12==10.3.9.55 in /home/soumoroy/anaconda3/lib/python3.9/site-packages (from torch) (10.3.9.55)\n",
      "Requirement already satisfied: nvidia-cuda-runtime-cu12==12.8.57 in /home/soumoroy/anaconda3/lib/python3.9/site-packages (from torch) (12.8.57)\n",
      "Requirement already satisfied: setuptools>=40.8.0 in /home/soumoroy/anaconda3/lib/python3.9/site-packages (from triton==3.3.1->torch) (58.0.4)\n",
      "Requirement already satisfied: numpy in /home/soumoroy/anaconda3/lib/python3.9/site-packages (from torchvision) (1.20.3)\n",
      "Requirement already satisfied: pillow!=8.3.*,>=5.3.0 in /home/soumoroy/anaconda3/lib/python3.9/site-packages (from torchvision) (8.4.0)\n",
      "Requirement already satisfied: mpmath<1.4,>=1.1.0 in /home/soumoroy/anaconda3/lib/python3.9/site-packages (from sympy>=1.13.3->torch) (1.2.1)\n",
      "Requirement already satisfied: MarkupSafe>=0.23 in /home/soumoroy/anaconda3/lib/python3.9/site-packages (from jinja2->torch) (1.1.1)\n",
      "torch version: 2.7.1+cu128\n",
      "torchvision version: 0.22.1+cu128\n"
     ]
    }
   ],
   "source": [
    "# For this notebook to run with updated APIs, we need torch 1.12+ and torchvision 0.13+\n",
    "try:\n",
    "    import torch\n",
    "    import torchvision\n",
    "    assert int(torch.__version__.split(\".\")[1]) >= 12, \"torch version should be 1.12+\"\n",
    "    assert int(torchvision.__version__.split(\".\")[1]) >= 13, \"torchvision version should be 0.13+\"\n",
    "    print(f\"torch version: {torch.__version__}\")\n",
    "    print(f\"torchvision version: {torchvision.__version__}\")\n",
    "except:\n",
    "    print(f\"[INFO] torch/torchvision versions not as required, installing nightly versions.\")\n",
    "    !pip3 install -U torch torchvision torchaudio --extra-index-url https://download.pytorch.org/whl/cu113\n",
    "    import torch\n",
    "    import torchvision\n",
    "    print(f\"torch version: {torch.__version__}\")\n",
    "    print(f\"torchvision version: {torchvision.__version__}\")"
   ]
  },
  {
   "cell_type": "code",
   "execution_count": 2,
   "id": "57d53629",
   "metadata": {},
   "outputs": [
    {
     "name": "stdout",
     "output_type": "stream",
     "text": [
      "[INFO] Couldn't find going_modular scripts... downloading them from GitHub.\n",
      "Cloning into 'pytorch-deep-learning'...\n",
      "remote: Enumerating objects: 4393, done.\u001b[K\n",
      "remote: Counting objects: 100% (1534/1534), done.\u001b[K\n",
      "remote: Compressing objects: 100% (135/135), done.\u001b[K\n",
      "remote: Total 4393 (delta 1458), reused 1399 (delta 1399), pack-reused 2859 (from 2)\u001b[K\n",
      "Receiving objects: 100% (4393/4393), 650.71 MiB | 16.59 MiB/s, done.\n",
      "Resolving deltas: 100% (2660/2660), done.\n",
      "Updating files: 100% (248/248), done.\n"
     ]
    }
   ],
   "source": [
    "# Continue with regular imports\n",
    "import matplotlib.pyplot as plt\n",
    "import torch\n",
    "import torchvision\n",
    "\n",
    "from torch import nn\n",
    "from torchvision import transforms\n",
    "\n",
    "# Try to get torchinfo, install it if it doesn't work\n",
    "try:\n",
    "    from torchinfo import summary\n",
    "except:\n",
    "    print(\"[INFO] Couldn't find torchinfo... installing it.\")\n",
    "    !pip install -q torchinfo\n",
    "    from torchinfo import summary\n",
    "\n",
    "# Try to import the going_modular directory, download it from GitHub if it doesn't work\n",
    "try:\n",
    "    from going_modular.going_modular import data_setup, engine\n",
    "except:\n",
    "    # Get the going_modular scripts\n",
    "    print(\"[INFO] Couldn't find going_modular scripts... downloading them from GitHub.\")\n",
    "    !git clone https://github.com/mrdbourke/pytorch-deep-learning\n",
    "    !mv pytorch-deep-learning/going_modular .\n",
    "    !rm -rf pytorch-deep-learning\n",
    "    from going_modular.going_modular import data_setup, engine"
   ]
  },
  {
   "cell_type": "code",
   "execution_count": 3,
   "id": "a00db7d9",
   "metadata": {},
   "outputs": [
    {
     "data": {
      "text/plain": [
       "'cuda'"
      ]
     },
     "execution_count": 3,
     "metadata": {},
     "output_type": "execute_result"
    }
   ],
   "source": [
    "# Setup device agnostic code\n",
    "device = \"cuda\" if torch.cuda.is_available() else \"cpu\"\n",
    "device"
   ]
  },
  {
   "cell_type": "code",
   "execution_count": 4,
   "id": "b91f26af",
   "metadata": {},
   "outputs": [
    {
     "name": "stdout",
     "output_type": "stream",
     "text": [
      "data/pizza_steak_sushi directory exists.\n"
     ]
    }
   ],
   "source": [
    "import os\n",
    "import zipfile\n",
    "\n",
    "from pathlib import Path\n",
    "\n",
    "import requests\n",
    "\n",
    "# Setup path to data folder\n",
    "data_path = Path(\"data/\")\n",
    "image_path = data_path / \"pizza_steak_sushi\"\n",
    "\n",
    "# If the image folder doesn't exist, download it and prepare it... \n",
    "if image_path.is_dir():\n",
    "    print(f\"{image_path} directory exists.\")\n",
    "else:\n",
    "    print(f\"Did not find {image_path} directory, creating one...\")\n",
    "    image_path.mkdir(parents=True, exist_ok=True)\n",
    "    \n",
    "    # Download pizza, steak, sushi data\n",
    "    with open(data_path / \"pizza_steak_sushi.zip\", \"wb\") as f:\n",
    "        request = requests.get(\"https://github.com/mrdbourke/pytorch-deep-learning/raw/main/data/pizza_steak_sushi.zip\")\n",
    "        print(\"Downloading pizza, steak, sushi data...\")\n",
    "        f.write(request.content)\n",
    "\n",
    "    # Unzip pizza, steak, sushi data\n",
    "    with zipfile.ZipFile(data_path / \"pizza_steak_sushi.zip\", \"r\") as zip_ref:\n",
    "        print(\"Unzipping pizza, steak, sushi data...\") \n",
    "        zip_ref.extractall(image_path)\n",
    "\n",
    "    # Remove .zip file\n",
    "    os.remove(data_path / \"pizza_steak_sushi.zip\")"
   ]
  }
 ],
 "metadata": {
  "kernelspec": {
   "display_name": "base",
   "language": "python",
   "name": "python3"
  },
  "language_info": {
   "codemirror_mode": {
    "name": "ipython",
    "version": 3
   },
   "file_extension": ".py",
   "mimetype": "text/x-python",
   "name": "python",
   "nbconvert_exporter": "python",
   "pygments_lexer": "ipython3",
   "version": "3.9.7"
  }
 },
 "nbformat": 4,
 "nbformat_minor": 5
}
