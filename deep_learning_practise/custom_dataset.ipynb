{
 "cells": [
  {
   "cell_type": "code",
   "execution_count": null,
   "id": "57412600",
   "metadata": {},
   "outputs": [],
   "source": []
  },
  {
   "cell_type": "markdown",
   "id": "5a76f0cf",
   "metadata": {},
   "source": [
    "## To write code here soons"
   ]
  }
 ],
 "metadata": {
  "language_info": {
   "name": "python"
  }
 },
 "nbformat": 4,
 "nbformat_minor": 5
}
